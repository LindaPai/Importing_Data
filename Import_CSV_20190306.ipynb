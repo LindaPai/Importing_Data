{
 "cells": [
  {
   "cell_type": "code",
   "execution_count": 1,
   "metadata": {},
   "outputs": [],
   "source": [
    "import numpy as np"
   ]
  },
  {
   "cell_type": "code",
   "execution_count": 4,
   "metadata": {},
   "outputs": [],
   "source": [
    "file = \"Lottery_Mega_Millions_Winning_Numbers__Beginning_2002.csv\""
   ]
  },
  {
   "cell_type": "code",
   "execution_count": 8,
   "metadata": {},
   "outputs": [
    {
     "name": "stdout",
     "output_type": "stream",
     "text": [
      "<class 'str'>\n"
     ]
    }
   ],
   "source": [
    "print(type(file))"
   ]
  },
  {
   "cell_type": "code",
   "execution_count": 10,
   "metadata": {},
   "outputs": [
    {
     "name": "stdout",
     "output_type": "stream",
     "text": [
      "[[b'Draw Date' b'Winning Numbers' b'Mega Ball' b'Multiplier']\n",
      " [b'02/26/2019' b'10 12 14 24 60' b'20' b'3']\n",
      " [b'02/22/2019' b'18 24 31 34 55' b'4' b'4']\n",
      " ...\n",
      " [b'05/24/2002' b'02 04 32 44 52' b'36' b'']\n",
      " [b'05/21/2002' b'04 28 39 41 44' b'9' b'']\n",
      " [b'05/17/2002' b'15 18 25 33 47' b'30' b'']]\n"
     ]
    },
    {
     "name": "stderr",
     "output_type": "stream",
     "text": [
      "C:\\Users\\LindaPai\\Anaconda\\lib\\site-packages\\ipykernel_launcher.py:1: VisibleDeprecationWarning: Reading unicode strings without specifying the encoding argument is deprecated. Set the encoding, use None for the system default.\n",
      "  \"\"\"Entry point for launching an IPython kernel.\n"
     ]
    }
   ],
   "source": [
    "data = np.genfromtxt(file, delimiter = \",\", dtype=None)\n",
    "print(data)"
   ]
  },
  {
   "cell_type": "code",
   "execution_count": 11,
   "metadata": {},
   "outputs": [],
   "source": [
    "import pandas as pd"
   ]
  },
  {
   "cell_type": "code",
   "execution_count": 14,
   "metadata": {},
   "outputs": [
    {
     "name": "stdout",
     "output_type": "stream",
     "text": [
      "<class 'numpy.ndarray'>\n",
      "[['Draw Date' 'Winning Numbers' 'Mega Ball' 'Multiplier']\n",
      " ['02/26/2019' '10 12 14 24 60' '20' '3']\n",
      " ['02/22/2019' '18 24 31 34 55' '4' '4']\n",
      " ['02/19/2019' '17 24 34 56 65' '3' '2']\n",
      " ['02/15/2019' '10 38 40 43 65' '12' '2']]\n"
     ]
    }
   ],
   "source": [
    "data1 = pd.read_csv(file, nrows = 5, header = None)\n",
    "data_array = np.array(data1)\n",
    "print(type(data_array))\n",
    "print(data_array)"
   ]
  },
  {
   "cell_type": "code",
   "execution_count": 16,
   "metadata": {},
   "outputs": [
    {
     "name": "stdout",
     "output_type": "stream",
     "text": [
      "[['Draw Date' 'Winning Numbers' 'Mega Ball' 'Multiplier']\n",
      " ['02/26/2019' '10 12 14 24 60' '20' '3']\n",
      " ['02/22/2019' '18 24 31 34 55' '4' '4']\n",
      " ['02/19/2019' '17 24 34 56 65' '3' '2']\n",
      " ['02/15/2019' '10 38 40 43 65' '12' '2']\n",
      " ['02/12/2019' '15 32 39 50 65' '7' '3']\n",
      " ['02/08/2019' '14 24 31 42 48' '13' '3']\n",
      " ['02/05/2019' '03 34 36 59 66' '7' '2']\n",
      " ['02/01/2019' '02 37 48 66 68' '11' '5']\n",
      " ['01/29/2019' '10 33 53 54 62' '22' '2']]\n"
     ]
    }
   ],
   "source": [
    "data2 = pd.read_csv(file, sep=\",\", nrows = 10, header = None)\n",
    "data3 = np.array(data2)\n",
    "print(data3)"
   ]
  },
  {
   "cell_type": "code",
   "execution_count": 17,
   "metadata": {},
   "outputs": [
    {
     "name": "stdout",
     "output_type": "stream",
     "text": [
      "[['Draw Date,Winning Numbers,Mega Ball,Multiplier']\n",
      " ['02/26/2019,10 12 14 24 60,20,3']\n",
      " ['02/22/2019,18 24 31 34 55,4,4']\n",
      " ['02/19/2019,17 24 34 56 65,3,2']\n",
      " ['02/15/2019,10 38 40 43 65,12,2']\n",
      " ['02/12/2019,15 32 39 50 65,7,3']\n",
      " ['02/08/2019,14 24 31 42 48,13,3']\n",
      " ['02/05/2019,03 34 36 59 66,7,2']\n",
      " ['02/01/2019,02 37 48 66 68,11,5']\n",
      " ['01/29/2019,10 33 53 54 62,22,2']]\n"
     ]
    }
   ],
   "source": [
    "data2 = pd.read_csv(file, sep=\"\\t\", nrows = 10, header = None)\n",
    "data3 = np.array(data2)\n",
    "print(data3)"
   ]
  },
  {
   "cell_type": "code",
   "execution_count": null,
   "metadata": {},
   "outputs": [],
   "source": []
  }
 ],
 "metadata": {
  "kernelspec": {
   "display_name": "Python 3",
   "language": "python",
   "name": "python3"
  },
  "language_info": {
   "codemirror_mode": {
    "name": "ipython",
    "version": 3
   },
   "file_extension": ".py",
   "mimetype": "text/x-python",
   "name": "python",
   "nbconvert_exporter": "python",
   "pygments_lexer": "ipython3",
   "version": "3.7.1"
  }
 },
 "nbformat": 4,
 "nbformat_minor": 2
}
