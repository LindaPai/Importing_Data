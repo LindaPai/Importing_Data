{
 "cells": [
  {
   "cell_type": "code",
   "execution_count": 1,
   "metadata": {},
   "outputs": [],
   "source": [
    "from sqlalchemy import create_engine\n",
    "import pandas as pd"
   ]
  },
  {
   "cell_type": "code",
   "execution_count": 2,
   "metadata": {},
   "outputs": [],
   "source": [
    "engine = create_engine(\"sqlite:///Chinook.sqlite\")"
   ]
  },
  {
   "cell_type": "code",
   "execution_count": 3,
   "metadata": {},
   "outputs": [],
   "source": [
    "table_names = engine.table_names()"
   ]
  },
  {
   "cell_type": "code",
   "execution_count": 4,
   "metadata": {},
   "outputs": [
    {
     "name": "stdout",
     "output_type": "stream",
     "text": [
      "['Album', 'Artist', 'Customer', 'Employee', 'Genre', 'Invoice', 'InvoiceLine', 'MediaType', 'Playlist', 'PlaylistTrack', 'Track']\n"
     ]
    }
   ],
   "source": [
    "print(table_names)"
   ]
  },
  {
   "cell_type": "code",
   "execution_count": 5,
   "metadata": {},
   "outputs": [],
   "source": [
    "con = engine.connect()\n",
    "rs = con.execute(\"SELECT * FROM Artist\")\n",
    "df = pd.DataFrame(rs.fetchall())\n",
    "con.close()"
   ]
  },
  {
   "cell_type": "code",
   "execution_count": 6,
   "metadata": {},
   "outputs": [
    {
     "name": "stdout",
     "output_type": "stream",
     "text": [
      "    0                     1\n",
      "0   1                 AC/DC\n",
      "1   2                Accept\n",
      "2   3             Aerosmith\n",
      "3   4     Alanis Morissette\n",
      "4   5       Alice In Chains\n",
      "5   6  Antonio Carlos Jobim\n",
      "6   7          Apocalyptica\n",
      "7   8            Audioslave\n",
      "8   9              BackBeat\n",
      "9  10          Billy Cobham\n"
     ]
    }
   ],
   "source": [
    "print(df.head(10))  #default is first 4"
   ]
  },
  {
   "cell_type": "code",
   "execution_count": 7,
   "metadata": {},
   "outputs": [
    {
     "name": "stdout",
     "output_type": "stream",
     "text": [
      "   ArtistId               Name\n",
      "0         1              AC/DC\n",
      "1         2             Accept\n",
      "2         3          Aerosmith\n",
      "3         4  Alanis Morissette\n",
      "4         5    Alice In Chains\n"
     ]
    }
   ],
   "source": [
    "with engine.connect() as con:\n",
    "    rs = con.execute(\"SELECT * FROM Artist\")\n",
    "    df = pd.DataFrame(rs.fetchall())\n",
    "    df.columns = rs.keys()\n",
    "print(df.head())"
   ]
  },
  {
   "cell_type": "code",
   "execution_count": 8,
   "metadata": {},
   "outputs": [],
   "source": [
    "df1 = pd.read_sql_query(\"SELECT * FROM Artist\", engine)"
   ]
  },
  {
   "cell_type": "code",
   "execution_count": 9,
   "metadata": {},
   "outputs": [
    {
     "name": "stdout",
     "output_type": "stream",
     "text": [
      "     ArtistId                                               Name\n",
      "0           1                                              AC/DC\n",
      "1           2                                             Accept\n",
      "2           3                                          Aerosmith\n",
      "3           4                                  Alanis Morissette\n",
      "4           5                                    Alice In Chains\n",
      "5           6                               Antonio Carlos Jobim\n",
      "6           7                                       Apocalyptica\n",
      "7           8                                         Audioslave\n",
      "8           9                                           BackBeat\n",
      "9          10                                       Billy Cobham\n",
      "10         11                                Black Label Society\n",
      "11         12                                      Black Sabbath\n",
      "12         13                                         Body Count\n",
      "13         14                                    Bruce Dickinson\n",
      "14         15                                          Buddy Guy\n",
      "15         16                                     Caetano Veloso\n",
      "16         17                                      Chico Buarque\n",
      "17         18                        Chico Science & Nação Zumbi\n",
      "18         19                                       Cidade Negra\n",
      "19         20                                       Cláudio Zoli\n",
      "20         21                                    Various Artists\n",
      "21         22                                       Led Zeppelin\n",
      "22         23                    Frank Zappa & Captain Beefheart\n",
      "23         24                                       Marcos Valle\n",
      "24         25                         Milton Nascimento & Bebeto\n",
      "25         26                                            Azymuth\n",
      "26         27                                       Gilberto Gil\n",
      "27         28                                      João Gilberto\n",
      "28         29                                     Bebel Gilberto\n",
      "29         30                                      Jorge Vercilo\n",
      "..        ...                                                ...\n",
      "245       246  Chor der Wiener Staatsoper, Herbert Von Karaja...\n",
      "246       247                                 The King's Singers\n",
      "247       248      Berliner Philharmoniker & Herbert Von Karajan\n",
      "248       249   Sir Georg Solti, Sumi Jo & Wiener Philharmoniker\n",
      "249       250                                Christopher O'Riley\n",
      "250       251                                           Fretwork\n",
      "251       252                                      Amy Winehouse\n",
      "252       253                                           Calexico\n",
      "253       254            Otto Klemperer & Philharmonia Orchestra\n",
      "254       255                                     Yehudi Menuhin\n",
      "255       256      Philharmonia Orchestra & Sir Neville Marriner\n",
      "256       257  Academy of St. Martin in the Fields, Sir Nevil...\n",
      "257       258            Les Arts Florissants & William Christie\n",
      "258       259         The 12 Cellists of The Berlin Philharmonic\n",
      "259       260                     Adrian Leaper & Doreen de Feis\n",
      "260       261         Roger Norrington, London Classical Players\n",
      "261       262  Charles Dutoit & L'Orchestre Symphonique de Mo...\n",
      "262       263  Equale Brass Ensemble, John Eliot Gardiner & M...\n",
      "263       264       Kent Nagano and Orchestre de l'Opéra de Lyon\n",
      "264       265                                       Julian Bream\n",
      "265       266                                      Martin Roscoe\n",
      "266       267                 Göteborgs Symfoniker & Neeme Järvi\n",
      "267       268                                     Itzhak Perlman\n",
      "268       269                                 Michele Campanella\n",
      "269       270                                       Gerald Moore\n",
      "270       271   Mela Tenenbaum, Pro Musica Prague & Richard Kapp\n",
      "271       272                             Emerson String Quartet\n",
      "272       273  C. Monteverdi, Nigel Rogers - Chiaroscuro; Lon...\n",
      "273       274                                      Nash Ensemble\n",
      "274       275                              Philip Glass Ensemble\n",
      "\n",
      "[275 rows x 2 columns]\n"
     ]
    }
   ],
   "source": [
    "print(df1)"
   ]
  },
  {
   "cell_type": "code",
   "execution_count": 10,
   "metadata": {},
   "outputs": [
    {
     "name": "stdout",
     "output_type": "stream",
     "text": [
      "True\n"
     ]
    }
   ],
   "source": [
    "print(df.equals(df1))"
   ]
  },
  {
   "cell_type": "code",
   "execution_count": 11,
   "metadata": {},
   "outputs": [],
   "source": [
    "from sqlalchemy import MetaData, Table"
   ]
  },
  {
   "cell_type": "code",
   "execution_count": 12,
   "metadata": {},
   "outputs": [],
   "source": [
    "MD = MetaData()\n",
    "TB = Table(\"Employee\", MD, autoload = True, autoload_with = engine)\n",
    "# Read database and build SQLalchemy Table objects"
   ]
  },
  {
   "cell_type": "code",
   "execution_count": 13,
   "metadata": {},
   "outputs": [
    {
     "name": "stdout",
     "output_type": "stream",
     "text": [
      "Table('Employee', MetaData(bind=None), Column('EmployeeId', INTEGER(), table=<Employee>, primary_key=True, nullable=False), Column('LastName', NVARCHAR(length=20), table=<Employee>, nullable=False), Column('FirstName', NVARCHAR(length=20), table=<Employee>, nullable=False), Column('Title', NVARCHAR(length=30), table=<Employee>), Column('ReportsTo', INTEGER(), ForeignKey('Employee.EmployeeId'), table=<Employee>), Column('BirthDate', DATETIME(), table=<Employee>), Column('HireDate', DATETIME(), table=<Employee>), Column('Address', NVARCHAR(length=70), table=<Employee>), Column('City', NVARCHAR(length=40), table=<Employee>), Column('State', NVARCHAR(length=40), table=<Employee>), Column('Country', NVARCHAR(length=40), table=<Employee>), Column('PostalCode', NVARCHAR(length=10), table=<Employee>), Column('Phone', NVARCHAR(length=24), table=<Employee>), Column('Fax', NVARCHAR(length=24), table=<Employee>), Column('Email', NVARCHAR(length=60), table=<Employee>), schema=None)\n"
     ]
    }
   ],
   "source": [
    "print(repr(TB))\n",
    "# Get all Col names at Employee table\n",
    "# repr() function to print all detail of Employee Table"
   ]
  },
  {
   "cell_type": "code",
   "execution_count": 14,
   "metadata": {},
   "outputs": [
    {
     "name": "stdout",
     "output_type": "stream",
     "text": [
      "['EmployeeId', 'LastName', 'FirstName', 'Title', 'ReportsTo', 'BirthDate', 'HireDate', 'Address', 'City', 'State', 'Country', 'PostalCode', 'Phone', 'Fax', 'Email']\n"
     ]
    }
   ],
   "source": [
    "print(TB.columns.keys())\n",
    "# only get columns names of table"
   ]
  },
  {
   "cell_type": "code",
   "execution_count": 15,
   "metadata": {},
   "outputs": [
    {
     "name": "stdout",
     "output_type": "stream",
     "text": [
      "Table('Employee', MetaData(bind=None), Column('EmployeeId', INTEGER(), table=<Employee>, primary_key=True, nullable=False), Column('LastName', NVARCHAR(length=20), table=<Employee>, nullable=False), Column('FirstName', NVARCHAR(length=20), table=<Employee>, nullable=False), Column('Title', NVARCHAR(length=30), table=<Employee>), Column('ReportsTo', INTEGER(), ForeignKey('Employee.EmployeeId'), table=<Employee>), Column('BirthDate', DATETIME(), table=<Employee>), Column('HireDate', DATETIME(), table=<Employee>), Column('Address', NVARCHAR(length=70), table=<Employee>), Column('City', NVARCHAR(length=40), table=<Employee>), Column('State', NVARCHAR(length=40), table=<Employee>), Column('Country', NVARCHAR(length=40), table=<Employee>), Column('PostalCode', NVARCHAR(length=10), table=<Employee>), Column('Phone', NVARCHAR(length=24), table=<Employee>), Column('Fax', NVARCHAR(length=24), table=<Employee>), Column('Email', NVARCHAR(length=60), table=<Employee>), schema=None)\n"
     ]
    }
   ],
   "source": [
    "print(repr(MD.tables[\"Employee\"]))\n",
    "# The other method to get all detail"
   ]
  },
  {
   "cell_type": "code",
   "execution_count": 16,
   "metadata": {},
   "outputs": [
    {
     "name": "stdout",
     "output_type": "stream",
     "text": [
      "['CustomerId', 'FirstName', 'LastName', 'Company', 'Address', 'City', 'State', 'Country', 'PostalCode', 'Phone', 'Fax', 'Email', 'SupportRepId']\n"
     ]
    }
   ],
   "source": [
    "TB1 = Table(\"Customer\", MD, autoload = True, autoload_with = engine)\n",
    "print(TB1.columns.keys())"
   ]
  },
  {
   "cell_type": "code",
   "execution_count": 17,
   "metadata": {},
   "outputs": [
    {
     "name": "stdout",
     "output_type": "stream",
     "text": [
      "['InvoiceId', 'CustomerId', 'InvoiceDate', 'BillingAddress', 'BillingCity', 'BillingState', 'BillingCountry', 'BillingPostalCode', 'Total']\n"
     ]
    }
   ],
   "source": [
    "TB2 = Table(\"Invoice\", MD, autoload = True, autoload_with = engine)\n",
    "print(TB2.columns.keys())"
   ]
  },
  {
   "cell_type": "code",
   "execution_count": 28,
   "metadata": {},
   "outputs": [
    {
     "name": "stdout",
     "output_type": "stream",
     "text": [
      "   InvoiceId          InvoiceDate       City  SupportRepId  Total\n",
      "0          1  2007-01-01 00:00:00  Stuttgart             5   1.98\n",
      "1          2  2007-01-02 00:00:00       Oslo             4   3.96\n",
      "2          3  2007-01-03 00:00:00   Brussels             4   5.94\n",
      "3          4  2007-01-06 00:00:00   Edmonton             5   8.91\n",
      "4          5  2007-01-11 00:00:00     Boston             4  13.86\n"
     ]
    }
   ],
   "source": [
    "# Found out Table Customer and Invoice should be linked of CustomerId\n",
    "df2 = pd.read_sql_query(\"SELECT InvoiceId, InvoiceDate,City, SupportRepId ,Total FROM Customer INNER JOIN Invoice on Customer.CustomerId = Invoice.CustomerId\",engine)\n",
    "print(df2.head())\n",
    "\n",
    "# Col City and SupportRepId are from Customer Table\n",
    "# Col InvoiceId, InvoiceDate and Total are from Invoice Table"
   ]
  },
  {
   "cell_type": "code",
   "execution_count": 21,
   "metadata": {},
   "outputs": [],
   "source": [
    "df2 = pd.read_sql_query(\"SELECT * FROM PlaylistTrack INNER JOIN Track on PlaylistTrack.TrackId = Track.TrackId WHERE Milliseconds < 250000\", engine)\n",
    "# another way to extract all records where Milliseconds < 250000 of 2 tables"
   ]
  },
  {
   "cell_type": "code",
   "execution_count": 22,
   "metadata": {
    "scrolled": true
   },
   "outputs": [
    {
     "name": "stdout",
     "output_type": "stream",
     "text": [
      "   PlaylistId  TrackId  TrackId              Name  AlbumId  MediaTypeId  \\\n",
      "0           1     3390     3390  One and the Same      271            2   \n",
      "1           1     3392     3392     Until We Fall      271            2   \n",
      "2           1     3393     3393     Original Fire      271            2   \n",
      "3           1     3394     3394       Broken City      271            2   \n",
      "4           1     3395     3395          Somedays      271            2   \n",
      "\n",
      "   GenreId Composer  Milliseconds    Bytes  UnitPrice  \n",
      "0       23     None        217732  3559040       0.99  \n",
      "1       23     None        230758  3766605       0.99  \n",
      "2       23     None        218916  3577821       0.99  \n",
      "3       23     None        228366  3728955       0.99  \n",
      "4       23     None        213831  3497176       0.99  \n"
     ]
    }
   ],
   "source": [
    "print(df2.head())"
   ]
  },
  {
   "cell_type": "code",
   "execution_count": null,
   "metadata": {},
   "outputs": [],
   "source": []
  }
 ],
 "metadata": {
  "kernelspec": {
   "display_name": "Python 3",
   "language": "python",
   "name": "python3"
  },
  "language_info": {
   "codemirror_mode": {
    "name": "ipython",
    "version": 3
   },
   "file_extension": ".py",
   "mimetype": "text/x-python",
   "name": "python",
   "nbconvert_exporter": "python",
   "pygments_lexer": "ipython3",
   "version": "3.7.1"
  }
 },
 "nbformat": 4,
 "nbformat_minor": 2
}
